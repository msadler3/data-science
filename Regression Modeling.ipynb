{
 "cells": [
  {
   "cell_type": "code",
   "execution_count": 1,
   "id": "18839e91",
   "metadata": {},
   "outputs": [
    {
     "data": {
      "text/html": [
       "<div>\n",
       "<style scoped>\n",
       "    .dataframe tbody tr th:only-of-type {\n",
       "        vertical-align: middle;\n",
       "    }\n",
       "\n",
       "    .dataframe tbody tr th {\n",
       "        vertical-align: top;\n",
       "    }\n",
       "\n",
       "    .dataframe thead th {\n",
       "        text-align: right;\n",
       "    }\n",
       "</style>\n",
       "<table border=\"1\" class=\"dataframe\">\n",
       "  <thead>\n",
       "    <tr style=\"text-align: right;\">\n",
       "      <th></th>\n",
       "      <th>Sepal Length</th>\n",
       "      <th>Sepal Width</th>\n",
       "      <th>Petal Length</th>\n",
       "      <th>Petal Width</th>\n",
       "      <th>Labels</th>\n",
       "    </tr>\n",
       "  </thead>\n",
       "  <tbody>\n",
       "    <tr>\n",
       "      <th>0</th>\n",
       "      <td>5.1</td>\n",
       "      <td>3.5</td>\n",
       "      <td>1.4</td>\n",
       "      <td>0.2</td>\n",
       "      <td>0</td>\n",
       "    </tr>\n",
       "    <tr>\n",
       "      <th>1</th>\n",
       "      <td>4.9</td>\n",
       "      <td>3.0</td>\n",
       "      <td>1.4</td>\n",
       "      <td>0.2</td>\n",
       "      <td>0</td>\n",
       "    </tr>\n",
       "    <tr>\n",
       "      <th>2</th>\n",
       "      <td>4.7</td>\n",
       "      <td>3.2</td>\n",
       "      <td>1.3</td>\n",
       "      <td>0.2</td>\n",
       "      <td>0</td>\n",
       "    </tr>\n",
       "    <tr>\n",
       "      <th>3</th>\n",
       "      <td>4.6</td>\n",
       "      <td>3.1</td>\n",
       "      <td>1.5</td>\n",
       "      <td>0.2</td>\n",
       "      <td>0</td>\n",
       "    </tr>\n",
       "    <tr>\n",
       "      <th>4</th>\n",
       "      <td>5.0</td>\n",
       "      <td>3.6</td>\n",
       "      <td>1.4</td>\n",
       "      <td>0.2</td>\n",
       "      <td>0</td>\n",
       "    </tr>\n",
       "  </tbody>\n",
       "</table>\n",
       "</div>"
      ],
      "text/plain": [
       "   Sepal Length  Sepal Width   Petal Length  Petal Width  Labels\n",
       "0           5.1          3.5            1.4          0.2       0\n",
       "1           4.9          3.0            1.4          0.2       0\n",
       "2           4.7          3.2            1.3          0.2       0\n",
       "3           4.6          3.1            1.5          0.2       0\n",
       "4           5.0          3.6            1.4          0.2       0"
      ]
     },
     "execution_count": 1,
     "metadata": {},
     "output_type": "execute_result"
    }
   ],
   "source": [
    "#basic packages and data\n",
    "import pandas as pd\n",
    "import numpy as np\n",
    "\n",
    "df = pd.read_csv('Iris_Data.csv')\n",
    "\n",
    "df.head()"
   ]
  },
  {
   "cell_type": "code",
   "execution_count": 2,
   "id": "8390a389",
   "metadata": {},
   "outputs": [
    {
     "data": {
      "text/plain": [
       "150"
      ]
     },
     "execution_count": 2,
     "metadata": {},
     "output_type": "execute_result"
    }
   ],
   "source": [
    "len(df)"
   ]
  },
  {
   "cell_type": "code",
   "execution_count": 3,
   "id": "63cf4756",
   "metadata": {},
   "outputs": [],
   "source": [
    "df = df.rename(columns = {'Labels' : 'Species'})"
   ]
  },
  {
   "cell_type": "code",
   "execution_count": 4,
   "id": "119c8a20",
   "metadata": {},
   "outputs": [
    {
     "data": {
      "text/html": [
       "<div>\n",
       "<style scoped>\n",
       "    .dataframe tbody tr th:only-of-type {\n",
       "        vertical-align: middle;\n",
       "    }\n",
       "\n",
       "    .dataframe tbody tr th {\n",
       "        vertical-align: top;\n",
       "    }\n",
       "\n",
       "    .dataframe thead th {\n",
       "        text-align: right;\n",
       "    }\n",
       "</style>\n",
       "<table border=\"1\" class=\"dataframe\">\n",
       "  <thead>\n",
       "    <tr style=\"text-align: right;\">\n",
       "      <th></th>\n",
       "      <th>Sepal Length</th>\n",
       "      <th>Sepal Width</th>\n",
       "      <th>Petal Length</th>\n",
       "      <th>Petal Width</th>\n",
       "      <th>Species</th>\n",
       "    </tr>\n",
       "  </thead>\n",
       "  <tbody>\n",
       "    <tr>\n",
       "      <th>0</th>\n",
       "      <td>5.1</td>\n",
       "      <td>3.5</td>\n",
       "      <td>1.4</td>\n",
       "      <td>0.2</td>\n",
       "      <td>0</td>\n",
       "    </tr>\n",
       "    <tr>\n",
       "      <th>1</th>\n",
       "      <td>4.9</td>\n",
       "      <td>3.0</td>\n",
       "      <td>1.4</td>\n",
       "      <td>0.2</td>\n",
       "      <td>0</td>\n",
       "    </tr>\n",
       "    <tr>\n",
       "      <th>2</th>\n",
       "      <td>4.7</td>\n",
       "      <td>3.2</td>\n",
       "      <td>1.3</td>\n",
       "      <td>0.2</td>\n",
       "      <td>0</td>\n",
       "    </tr>\n",
       "    <tr>\n",
       "      <th>3</th>\n",
       "      <td>4.6</td>\n",
       "      <td>3.1</td>\n",
       "      <td>1.5</td>\n",
       "      <td>0.2</td>\n",
       "      <td>0</td>\n",
       "    </tr>\n",
       "    <tr>\n",
       "      <th>4</th>\n",
       "      <td>5.0</td>\n",
       "      <td>3.6</td>\n",
       "      <td>1.4</td>\n",
       "      <td>0.2</td>\n",
       "      <td>0</td>\n",
       "    </tr>\n",
       "  </tbody>\n",
       "</table>\n",
       "</div>"
      ],
      "text/plain": [
       "   Sepal Length  Sepal Width   Petal Length  Petal Width  Species\n",
       "0           5.1          3.5            1.4          0.2        0\n",
       "1           4.9          3.0            1.4          0.2        0\n",
       "2           4.7          3.2            1.3          0.2        0\n",
       "3           4.6          3.1            1.5          0.2        0\n",
       "4           5.0          3.6            1.4          0.2        0"
      ]
     },
     "execution_count": 4,
     "metadata": {},
     "output_type": "execute_result"
    }
   ],
   "source": [
    "df.head()"
   ]
  },
  {
   "cell_type": "code",
   "execution_count": 5,
   "id": "987f01a8",
   "metadata": {},
   "outputs": [
    {
     "data": {
      "text/plain": [
       "array([0, 1, 2], dtype=int64)"
      ]
     },
     "execution_count": 5,
     "metadata": {},
     "output_type": "execute_result"
    }
   ],
   "source": [
    "# number of unique species \n",
    "pd.unique(df['Species'])"
   ]
  },
  {
   "cell_type": "code",
   "execution_count": 6,
   "id": "9dac8444",
   "metadata": {},
   "outputs": [
    {
     "data": {
      "text/html": [
       "<div>\n",
       "<style scoped>\n",
       "    .dataframe tbody tr th:only-of-type {\n",
       "        vertical-align: middle;\n",
       "    }\n",
       "\n",
       "    .dataframe tbody tr th {\n",
       "        vertical-align: top;\n",
       "    }\n",
       "\n",
       "    .dataframe thead th {\n",
       "        text-align: right;\n",
       "    }\n",
       "</style>\n",
       "<table border=\"1\" class=\"dataframe\">\n",
       "  <thead>\n",
       "    <tr style=\"text-align: right;\">\n",
       "      <th></th>\n",
       "      <th>Sepal Length</th>\n",
       "      <th>Sepal Width</th>\n",
       "      <th>Petal Length</th>\n",
       "      <th>Petal Width</th>\n",
       "    </tr>\n",
       "    <tr>\n",
       "      <th>Species</th>\n",
       "      <th></th>\n",
       "      <th></th>\n",
       "      <th></th>\n",
       "      <th></th>\n",
       "    </tr>\n",
       "  </thead>\n",
       "  <tbody>\n",
       "    <tr>\n",
       "      <th>0</th>\n",
       "      <td>50</td>\n",
       "      <td>50</td>\n",
       "      <td>50</td>\n",
       "      <td>50</td>\n",
       "    </tr>\n",
       "    <tr>\n",
       "      <th>1</th>\n",
       "      <td>50</td>\n",
       "      <td>50</td>\n",
       "      <td>50</td>\n",
       "      <td>50</td>\n",
       "    </tr>\n",
       "    <tr>\n",
       "      <th>2</th>\n",
       "      <td>50</td>\n",
       "      <td>50</td>\n",
       "      <td>50</td>\n",
       "      <td>50</td>\n",
       "    </tr>\n",
       "  </tbody>\n",
       "</table>\n",
       "</div>"
      ],
      "text/plain": [
       "         Sepal Length  Sepal Width   Petal Length  Petal Width\n",
       "Species                                                       \n",
       "0                  50           50             50           50\n",
       "1                  50           50             50           50\n",
       "2                  50           50             50           50"
      ]
     },
     "execution_count": 6,
     "metadata": {},
     "output_type": "execute_result"
    }
   ],
   "source": [
    "# number of irises per species\n",
    "df.groupby('Species').count()"
   ]
  },
  {
   "cell_type": "markdown",
   "id": "e70a9040",
   "metadata": {},
   "source": [
    "50 irises belonging to each of the 3 species"
   ]
  },
  {
   "cell_type": "code",
   "execution_count": 7,
   "id": "24aa0370",
   "metadata": {},
   "outputs": [
    {
     "data": {
      "text/plain": [
       "['Sepal Length', 'Sepal Width', ' Petal Length', 'Petal Width', 'Species']"
      ]
     },
     "execution_count": 7,
     "metadata": {},
     "output_type": "execute_result"
    }
   ],
   "source": [
    "list(df.columns)"
   ]
  },
  {
   "cell_type": "code",
   "execution_count": 8,
   "id": "91ff8b33",
   "metadata": {},
   "outputs": [
    {
     "data": {
      "text/plain": [
       "<function matplotlib.pyplot.show(close=None, block=None)>"
      ]
     },
     "execution_count": 8,
     "metadata": {},
     "output_type": "execute_result"
    },
    {
     "data": {
      "image/png": "[encoded data removed]",
      "text/plain": [
       "<Figure size 360x360 with 1 Axes>"
      ]
     },
     "metadata": {
      "needs_background": "light"
     },
     "output_type": "display_data"
    }
   ],
   "source": [
    "#scatterplot\n",
    "import seaborn as sns\n",
    "import matplotlib.pyplot as plt\n",
    "\n",
    "sns.lmplot(x = \" Petal Length\", y = \"Sepal Length\", data = df, fit_reg = False, hue = 'Species', legend = False, palette = \"bright\")\n",
    "plt.legend(loc = 'upper left')\n",
    "\n",
    "plt.savefig('iris_scatterplot.png')\n",
    "plt.show"
   ]
  },
  {
   "cell_type": "markdown",
   "id": "8e0b7d37",
   "metadata": {},
   "source": [
    "From the scatterplot species 0 is the most distinct based on sepal and petal lengths with species 1 and 2 being somewhat intermixed. The graph has a general positive correlation between the two variables and relatively few outliers, which should increase the accuracy of the regression model. The correlation matrix below shows the highest correlation between these two variables, with petal width and species also having good correlation."
   ]
  },
  {
   "cell_type": "code",
   "execution_count": 9,
   "id": "a179f183",
   "metadata": {},
   "outputs": [
    {
     "data": {
      "text/plain": [
       "Sepal Length     1.000000\n",
       "Sepal Width     -0.109369\n",
       " Petal Length    0.871754\n",
       "Petal Width      0.817954\n",
       "Species          0.782561\n",
       "Name: Sepal Length, dtype: float64"
      ]
     },
     "execution_count": 9,
     "metadata": {},
     "output_type": "execute_result"
    }
   ],
   "source": [
    "#correlation matrix\n",
    "cm = df.corr()\n",
    "cm[\"Sepal Length\"]"
   ]
  },
  {
   "cell_type": "code",
   "execution_count": 10,
   "id": "32cb20dd",
   "metadata": {},
   "outputs": [],
   "source": [
    "#packages and variables for regression\n",
    "from sklearn import preprocessing\n",
    "from sklearn.model_selection import train_test_split\n",
    "\n",
    "X = df.drop(['Sepal Length', 'Species'], axis = 1)\n",
    "y = df['Sepal Length']"
   ]
  },
  {
   "cell_type": "code",
   "execution_count": 11,
   "id": "f672b6bf",
   "metadata": {},
   "outputs": [],
   "source": [
    "#splitting data into train and test sets\n",
    "X_train, X_test, y_train, y_test = train_test_split(X, y, test_size = 0.2, random_state = 123)"
   ]
  },
  {
   "cell_type": "code",
   "execution_count": 12,
   "id": "30c9d221",
   "metadata": {},
   "outputs": [],
   "source": [
    "#linear regression\n",
    "from sklearn.linear_model import LinearRegression\n",
    "\n",
    "lr = LinearRegression()\n",
    "lr.fit(X_train, y_train)\n",
    "\n",
    "ypred = lr.predict(X_test)"
   ]
  },
  {
   "cell_type": "code",
   "execution_count": 13,
   "id": "da27479b",
   "metadata": {},
   "outputs": [
    {
     "data": {
      "text/plain": [
       "0.8265809322914018"
      ]
     },
     "execution_count": 13,
     "metadata": {},
     "output_type": "execute_result"
    }
   ],
   "source": [
    "lr.score(X_test, y_test)"
   ]
  },
  {
   "cell_type": "code",
   "execution_count": 14,
   "id": "b5d053e6",
   "metadata": {},
   "outputs": [
    {
     "data": {
      "text/plain": [
       "0.36567425733090614"
      ]
     },
     "execution_count": 14,
     "metadata": {},
     "output_type": "execute_result"
    }
   ],
   "source": [
    "#root mean square error\n",
    "from sklearn.metrics import mean_squared_error\n",
    "from math import sqrt\n",
    "\n",
    "mse = mean_squared_error(y_test, ypred)\n",
    "rmse = sqrt(mse)\n",
    "rmse"
   ]
  },
  {
   "cell_type": "markdown",
   "id": "277862ee",
   "metadata": {},
   "source": [
    "The prediction with all variables except species had a r-squared value of 82% and a root mean square error of 0.36. This shows a good model and good correlation between petal and sepal length, with most of the error coming from the sepal width, which had almost no correlation."
   ]
  },
  {
   "cell_type": "code",
   "execution_count": 15,
   "id": "0c3fc5ce",
   "metadata": {},
   "outputs": [
    {
     "data": {
      "text/plain": [
       "0.3609256379524534"
      ]
     },
     "execution_count": 15,
     "metadata": {},
     "output_type": "execute_result"
    }
   ],
   "source": [
    "#same regression but with species as a predictor    \n",
    "X = df.drop(['Sepal Length'], axis = 1)\n",
    "y = df['Sepal Length']\n",
    "\n",
    "X_train, X_test, y_train, y_test = train_test_split(X, y, test_size = 0.2, random_state = 123)\n",
    "\n",
    "newlr = LinearRegression()\n",
    "newlr.fit(X_train, y_train)\n",
    "\n",
    "ypred = newlr.predict(X_test)\n",
    "\n",
    "mse = mean_squared_error(y_test, ypred)\n",
    "rmse = sqrt(mse)\n",
    "rmse"
   ]
  },
  {
   "cell_type": "code",
   "execution_count": 16,
   "id": "eb920755",
   "metadata": {},
   "outputs": [
    {
     "data": {
      "text/plain": [
       "0.8310557027519643"
      ]
     },
     "execution_count": 16,
     "metadata": {},
     "output_type": "execute_result"
    }
   ],
   "source": [
    "newlr.score(X_test, y_test)"
   ]
  },
  {
   "cell_type": "markdown",
   "id": "6c9f3319",
   "metadata": {},
   "source": [
    "The r-squared and root mean squared error are very slightly better with species as a predictor, which would be expected due the correlation matrix being 0.78 but is also likely within the general error of the regression. Using this variable had very little impact on the outcome of the model."
   ]
  },
  {
   "cell_type": "code",
   "execution_count": null,
   "id": "e0df0cd6",
   "metadata": {},
   "outputs": [],
   "source": []
  }
 ],
 "metadata": {
  "kernelspec": {
   "display_name": "Python 3 (ipykernel)",
   "language": "python",
   "name": "python3"
  },
  "language_info": {
   "codemirror_mode": {
    "name": "ipython",
    "version": 3
   },
   "file_extension": ".py",
   "mimetype": "text/x-python",
   "name": "python",
   "nbconvert_exporter": "python",
   "pygments_lexer": "ipython3",
   "version": "3.9.7"
  }
 },
 "nbformat": 4,
 "nbformat_minor": 5
}
