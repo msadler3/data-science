{
 "cells": [
  {
   "cell_type": "code",
   "execution_count": 9,
   "id": "d0ba6a1a",
   "metadata": {},
   "outputs": [],
   "source": [
    "def hamming_distance(s1, s2):\n",
    "    assert len(s1) == len(s2)\n",
    "    s1 = s1.replace('s', 'z').replace('S', 'Z')\n",
    "    s2 = s2.replace('s', 'z').replace('S', 'Z')\n",
    "    hd = sum(ch1 != ch2 for ch1, ch2 in zip(s1.lower(), s2.lower()))\n",
    "    for i in range(1, len(s1)):\n",
    "        hd += 0.5 * (s1[i] >= 'a' and s1[i] <= 'z' and\\\n",
    "                              s2[i] >= 'A' and s2[i] <= 'Z' or\\\n",
    "                              s1[i] >= 'A' and s1[i] <= 'Z' and\\\n",
    "                              s2[i] >= 'a' and s2[i] <= 'z')\n",
    "    return hd"
   ]
  },
  {
   "cell_type": "code",
   "execution_count": 10,
   "id": "69f92843",
   "metadata": {},
   "outputs": [
    {
     "data": {
      "text/plain": [
       "1.0"
      ]
     },
     "execution_count": 10,
     "metadata": {},
     "output_type": "execute_result"
    }
   ],
   "source": [
    "hamming_distance(\"make\", \"Mage\")"
   ]
  },
  {
   "cell_type": "code",
   "execution_count": 11,
   "id": "2af58feb",
   "metadata": {},
   "outputs": [
    {
     "data": {
      "text/plain": [
       "0.5"
      ]
     },
     "execution_count": 11,
     "metadata": {},
     "output_type": "execute_result"
    }
   ],
   "source": [
    "hamming_distance(\"MaiSY\", \"MaiZy\")"
   ]
  },
  {
   "cell_type": "code",
   "execution_count": 12,
   "id": "eea6a128",
   "metadata": {},
   "outputs": [
    {
     "data": {
      "text/plain": [
       "2.0"
      ]
     },
     "execution_count": 12,
     "metadata": {},
     "output_type": "execute_result"
    }
   ],
   "source": [
    "hamming_distance(\"Eagle\", \"Eager\")"
   ]
  },
  {
   "cell_type": "code",
   "execution_count": 13,
   "id": "705b5211",
   "metadata": {},
   "outputs": [
    {
     "data": {
      "text/plain": [
       "3.5"
      ]
     },
     "execution_count": 13,
     "metadata": {},
     "output_type": "execute_result"
    }
   ],
   "source": [
    "hamming_distance(\"Sentences work too\", \"Sentences wAke too\")"
   ]
  },
  {
   "cell_type": "code",
   "execution_count": 14,
   "id": "5b9f47c4",
   "metadata": {},
   "outputs": [
    {
     "data": {
      "text/plain": [
       "1.5"
      ]
     },
     "execution_count": 14,
     "metadata": {},
     "output_type": "execute_result"
    }
   ],
   "source": [
    "hamming_distance(\"data science\", \"Data Sciency\")"
   ]
  },
  {
   "cell_type": "code",
   "execution_count": 15,
   "id": "7524681e",
   "metadata": {},
   "outputs": [
    {
     "data": {
      "text/plain": [
       "0.5"
      ]
     },
     "execution_count": 15,
     "metadata": {},
     "output_type": "execute_result"
    }
   ],
   "source": [
    "hamming_distance(\"organizing\", \"orGanising\")"
   ]
  },
  {
   "cell_type": "code",
   "execution_count": 16,
   "id": "7fc55735",
   "metadata": {},
   "outputs": [
    {
     "data": {
      "text/plain": [
       "6.5"
      ]
     },
     "execution_count": 16,
     "metadata": {},
     "output_type": "execute_result"
    }
   ],
   "source": [
    "hamming_distance(\"AGPRklafsdywelllllgEnXuTggzF\", \"AgpRkliFZdiwelllllgENXUTygSF\")"
   ]
  },
  {
   "cell_type": "markdown",
   "id": "f669a20b",
   "metadata": {},
   "source": [
    "Since the Hamming distance requires strings of equal length and runs the distance as a difference in bits an application would be error detection code. When an error is detected it would be able to make assumptions on where the difference occured in the string and make corrections. This is a typical method for correcting signals over large distances, especially in space."
   ]
  }
 ],
 "metadata": {
  "kernelspec": {
   "display_name": "Python 3 (ipykernel)",
   "language": "python",
   "name": "python3"
  },
  "language_info": {
   "codemirror_mode": {
    "name": "ipython",
    "version": 3
   },
   "file_extension": ".py",
   "mimetype": "text/x-python",
   "name": "python",
   "nbconvert_exporter": "python",
   "pygments_lexer": "ipython3",
   "version": "3.9.7"
  }
 },
 "nbformat": 4,
 "nbformat_minor": 5
}
