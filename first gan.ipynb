{
 "cells": [
  {
   "cell_type": "code",
   "execution_count": 1,
   "id": "acfba7fa",
   "metadata": {},
   "outputs": [],
   "source": [
    "import torch\n",
    "from torch import nn\n",
    "\n",
    "import math\n",
    "import matplotlib.pyplot as plt"
   ]
  },
  {
   "cell_type": "code",
   "execution_count": 2,
   "id": "fc42787b",
   "metadata": {},
   "outputs": [
    {
     "data": {
      "text/plain": [
       "<torch._C.Generator at 0x1c7d24d2610>"
      ]
     },
     "execution_count": 2,
     "metadata": {},
     "output_type": "execute_result"
    }
   ],
   "source": [
    "torch.manual_seed(123)"
   ]
  },
  {
   "cell_type": "code",
   "execution_count": 3,
   "id": "3065b8aa",
   "metadata": {},
   "outputs": [],
   "source": [
    "train_data_length = 1024\n",
    "train_data = torch.zeros((train_data_length, 2))\n",
    "train_data[:, 0] = 2 * math.pi * torch.rand(train_data_length)\n",
    "train_data[:, 1] = torch.sin(train_data[:, 0])\n",
    "train_labels = torch.zeros(train_data_length)\n",
    "train_set = [\n",
    "    (train_data[i], train_labels[i]) for i in range(train_data_length)\n",
    "]"
   ]
  },
  {
   "cell_type": "code",
   "execution_count": 4,
   "id": "b8383cfa",
   "metadata": {},
   "outputs": [
    {
     "data": {
      "text/plain": [
       "[<matplotlib.lines.Line2D at 0x1c7d5a5a850>]"
      ]
     },
     "execution_count": 4,
     "metadata": {},
     "output_type": "execute_result"
    },
    {
     "data": {
      "image/png": "[encoded data removed]",
      "text/plain": [
       "<Figure size 432x288 with 1 Axes>"
      ]
     },
     "metadata": {
      "needs_background": "light"
     },
     "output_type": "display_data"
    }
   ],
   "source": [
    "plt.plot(train_data[:, 0], train_data[:, 1], \".\")"
   ]
  },
  {
   "cell_type": "code",
   "execution_count": 5,
   "id": "3537a4e3",
   "metadata": {},
   "outputs": [],
   "source": [
    "batch_size = 32\n",
    "train_loader = torch.utils.data.DataLoader(\n",
    "    train_set, batch_size=batch_size, shuffle=True\n",
    ")"
   ]
  },
  {
   "cell_type": "code",
   "execution_count": 6,
   "id": "b07fc3e2",
   "metadata": {},
   "outputs": [],
   "source": [
    "class Discriminator(nn.Module):\n",
    "    def __init__(self):\n",
    "        super().__init__()\n",
    "        self.model = nn.Sequential(\n",
    "            nn.Linear(2, 256),\n",
    "            nn.ReLU(),\n",
    "            nn.Dropout(0.3),\n",
    "            nn.Linear(256, 128),\n",
    "            nn.ReLU(),\n",
    "            nn.Dropout(0.3),\n",
    "            nn.Linear(128, 64),\n",
    "            nn.ReLU(),\n",
    "            nn.Dropout(0.3),\n",
    "            nn.Linear(64, 1),\n",
    "            nn.Sigmoid(),\n",
    "        )\n",
    "\n",
    "    def forward(self, x):\n",
    "        output = self.model(x)\n",
    "        return output"
   ]
  },
  {
   "cell_type": "code",
   "execution_count": 7,
   "id": "2a21ff04",
   "metadata": {},
   "outputs": [],
   "source": [
    "discriminator = Discriminator()"
   ]
  },
  {
   "cell_type": "code",
   "execution_count": 8,
   "id": "429f7e0c",
   "metadata": {},
   "outputs": [],
   "source": [
    "class Generator(nn.Module):\n",
    "    def __init__(self):\n",
    "        super().__init__()\n",
    "        self.model = nn.Sequential(\n",
    "            nn.Linear(2, 16),\n",
    "            nn.ReLU(),\n",
    "            nn.Linear(16, 32),\n",
    "            nn.ReLU(),\n",
    "            nn.Linear(32, 2),\n",
    "        )\n",
    "\n",
    "    def forward(self, x):\n",
    "        output = self.model(x)\n",
    "        return output\n",
    "\n",
    "generator = Generator()"
   ]
  },
  {
   "cell_type": "code",
   "execution_count": 9,
   "id": "9dd122dc",
   "metadata": {},
   "outputs": [],
   "source": [
    "lr = 0.001\n",
    "num_epochs = 300\n",
    "loss_function = nn.BCELoss()"
   ]
  },
  {
   "cell_type": "code",
   "execution_count": 10,
   "id": "3e4e6261",
   "metadata": {},
   "outputs": [],
   "source": [
    "optimizer_discriminator = torch.optim.Adam(discriminator.parameters(), lr=lr)\n",
    "optimizer_generator = torch.optim.Adam(generator.parameters(), lr=lr)"
   ]
  },
  {
   "cell_type": "code",
   "execution_count": 11,
   "id": "9905594e",
   "metadata": {},
   "outputs": [
    {
     "name": "stdout",
     "output_type": "stream",
     "text": [
      "Epoch: 0 Loss D.: 0.1911977380514145\n",
      "Epoch: 0 Loss G.: 2.177583932876587\n",
      "Epoch: 10 Loss D.: 0.6289854645729065\n",
      "Epoch: 10 Loss G.: 0.9222264885902405\n",
      "Epoch: 20 Loss D.: 0.6335284113883972\n",
      "Epoch: 20 Loss G.: 0.8041460514068604\n",
      "Epoch: 30 Loss D.: 0.6123635768890381\n",
      "Epoch: 30 Loss G.: 0.8861525654792786\n",
      "Epoch: 40 Loss D.: 0.6486978530883789\n",
      "Epoch: 40 Loss G.: 0.7819014191627502\n",
      "Epoch: 50 Loss D.: 0.648918628692627\n",
      "Epoch: 50 Loss G.: 0.7976263761520386\n",
      "Epoch: 60 Loss D.: 0.6695732474327087\n",
      "Epoch: 60 Loss G.: 0.7042601108551025\n",
      "Epoch: 70 Loss D.: 0.6914023160934448\n",
      "Epoch: 70 Loss G.: 0.6955958604812622\n",
      "Epoch: 80 Loss D.: 0.6747527718544006\n",
      "Epoch: 80 Loss G.: 0.6670544147491455\n",
      "Epoch: 90 Loss D.: 0.6974829435348511\n",
      "Epoch: 90 Loss G.: 0.6748055219650269\n",
      "Epoch: 100 Loss D.: 0.6391432881355286\n",
      "Epoch: 100 Loss G.: 0.9109367728233337\n",
      "Epoch: 110 Loss D.: 0.6746561527252197\n",
      "Epoch: 110 Loss G.: 0.6841859221458435\n",
      "Epoch: 120 Loss D.: 0.6543919444084167\n",
      "Epoch: 120 Loss G.: 0.7886636853218079\n",
      "Epoch: 130 Loss D.: 0.7081567645072937\n",
      "Epoch: 130 Loss G.: 0.965831995010376\n",
      "Epoch: 140 Loss D.: 0.5933870077133179\n",
      "Epoch: 140 Loss G.: 0.8782678246498108\n",
      "Epoch: 150 Loss D.: 0.6473806500434875\n",
      "Epoch: 150 Loss G.: 0.7579193711280823\n",
      "Epoch: 160 Loss D.: 0.6933762431144714\n",
      "Epoch: 160 Loss G.: 0.83476322889328\n",
      "Epoch: 170 Loss D.: 0.6256925463676453\n",
      "Epoch: 170 Loss G.: 0.8149709701538086\n",
      "Epoch: 180 Loss D.: 0.6831760406494141\n",
      "Epoch: 180 Loss G.: 0.6828404664993286\n",
      "Epoch: 190 Loss D.: 0.6787298917770386\n",
      "Epoch: 190 Loss G.: 0.761102557182312\n",
      "Epoch: 200 Loss D.: 0.6787699460983276\n",
      "Epoch: 200 Loss G.: 0.6635449528694153\n",
      "Epoch: 210 Loss D.: 0.7035645842552185\n",
      "Epoch: 210 Loss G.: 0.7084435820579529\n",
      "Epoch: 220 Loss D.: 0.6598650217056274\n",
      "Epoch: 220 Loss G.: 0.7902891039848328\n",
      "Epoch: 230 Loss D.: 0.6727846264839172\n",
      "Epoch: 230 Loss G.: 0.7155000567436218\n",
      "Epoch: 240 Loss D.: 0.6686974763870239\n",
      "Epoch: 240 Loss G.: 0.6694478988647461\n",
      "Epoch: 250 Loss D.: 0.6742919683456421\n",
      "Epoch: 250 Loss G.: 0.7216663360595703\n",
      "Epoch: 260 Loss D.: 0.5792224407196045\n",
      "Epoch: 260 Loss G.: 0.8956807851791382\n",
      "Epoch: 270 Loss D.: 0.6249446272850037\n",
      "Epoch: 270 Loss G.: 0.832197904586792\n",
      "Epoch: 280 Loss D.: 0.6973302960395813\n",
      "Epoch: 280 Loss G.: 0.8615167140960693\n",
      "Epoch: 290 Loss D.: 0.6317733526229858\n",
      "Epoch: 290 Loss G.: 1.0470924377441406\n"
     ]
    }
   ],
   "source": [
    "for epoch in range(num_epochs):\n",
    "    for n, (real_samples, _) in enumerate(train_loader):\n",
    "        # Data for training the discriminator\n",
    "        real_samples_labels = torch.ones((batch_size, 1))\n",
    "        latent_space_samples = torch.randn((batch_size, 2))\n",
    "        generated_samples = generator(latent_space_samples)\n",
    "        generated_samples_labels = torch.zeros((batch_size, 1))\n",
    "        all_samples = torch.cat((real_samples, generated_samples))\n",
    "        all_samples_labels = torch.cat(\n",
    "            (real_samples_labels, generated_samples_labels)\n",
    "        )\n",
    "\n",
    "        # Training the discriminator\n",
    "        discriminator.zero_grad()\n",
    "        output_discriminator = discriminator(all_samples)\n",
    "        loss_discriminator = loss_function(\n",
    "            output_discriminator, all_samples_labels)\n",
    "        loss_discriminator.backward()\n",
    "        optimizer_discriminator.step()\n",
    "\n",
    "        # Data for training the generator\n",
    "        latent_space_samples = torch.randn((batch_size, 2))\n",
    "\n",
    "        # Training the generator\n",
    "        generator.zero_grad()\n",
    "        generated_samples = generator(latent_space_samples)\n",
    "        output_discriminator_generated = discriminator(generated_samples)\n",
    "        loss_generator = loss_function(\n",
    "            output_discriminator_generated, real_samples_labels\n",
    "        )\n",
    "        loss_generator.backward()\n",
    "        optimizer_generator.step()\n",
    "\n",
    "        # Show loss\n",
    "        if epoch % 10 == 0 and n == batch_size - 1:\n",
    "            print(f\"Epoch: {epoch} Loss D.: {loss_discriminator}\")\n",
    "            print(f\"Epoch: {epoch} Loss G.: {loss_generator}\")"
   ]
  },
  {
   "cell_type": "code",
   "execution_count": 12,
   "id": "815168a8",
   "metadata": {},
   "outputs": [
    {
     "data": {
      "text/plain": [
       "[<matplotlib.lines.Line2D at 0x1c7d5b9fa90>]"
      ]
     },
     "execution_count": 12,
     "metadata": {},
     "output_type": "execute_result"
    },
    {
     "data": {
      "image/png": "[encoded data removed]",
      "text/plain": [
       "<Figure size 432x288 with 1 Axes>"
      ]
     },
     "metadata": {
      "needs_background": "light"
     },
     "output_type": "display_data"
    }
   ],
   "source": [
    "generated_samples = generated_samples.detach()\n",
    "plt.plot(generated_samples[:, 0], generated_samples[:, 1], \".\")"
   ]
  },
  {
   "cell_type": "code",
   "execution_count": null,
   "id": "a4726aeb",
   "metadata": {},
   "outputs": [],
   "source": []
  }
 ],
 "metadata": {
  "kernelspec": {
   "display_name": "gan",
   "language": "python",
   "name": "gan"
  },
  "language_info": {
   "codemirror_mode": {
    "name": "ipython",
    "version": 3
   },
   "file_extension": ".py",
   "mimetype": "text/x-python",
   "name": "python",
   "nbconvert_exporter": "python",
   "pygments_lexer": "ipython3",
   "version": "3.8.13"
  }
 },
 "nbformat": 4,
 "nbformat_minor": 5
}
