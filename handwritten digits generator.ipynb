{
 "cells": [
  {
   "cell_type": "code",
   "execution_count": 1,
   "id": "400aa7fc",
   "metadata": {},
   "outputs": [],
   "source": [
    "import torch\n",
    "from torch import nn\n",
    "\n",
    "import math\n",
    "import matplotlib.pyplot as plt\n",
    "import torchvision\n",
    "import torchvision.transforms as transforms"
   ]
  },
  {
   "cell_type": "code",
   "execution_count": 2,
   "id": "8c56bd46",
   "metadata": {},
   "outputs": [
    {
     "data": {
      "text/plain": [
       "<torch._C.Generator at 0x1cf52bb25d0>"
      ]
     },
     "execution_count": 2,
     "metadata": {},
     "output_type": "execute_result"
    }
   ],
   "source": [
    "torch.manual_seed(123)"
   ]
  },
  {
   "cell_type": "code",
   "execution_count": 3,
   "id": "152642c3",
   "metadata": {},
   "outputs": [],
   "source": [
    "device = \"\"\n",
    "if torch.cuda.is_available():\n",
    "    device = torch.device(\"cuda\")\n",
    "else:\n",
    "    device = torch.device(\"cpu\")"
   ]
  },
  {
   "cell_type": "code",
   "execution_count": 4,
   "id": "cecbf964",
   "metadata": {},
   "outputs": [],
   "source": [
    "transform = transforms.Compose(\n",
    "    [transforms.ToTensor(), transforms.Normalize((0.5,), (0.5,))]\n",
    ")"
   ]
  },
  {
   "cell_type": "code",
   "execution_count": 5,
   "id": "45f1040b",
   "metadata": {},
   "outputs": [
    {
     "name": "stderr",
     "output_type": "stream",
     "text": [
      "\r",
      "0.0%"
     ]
    },
    {
     "name": "stdout",
     "output_type": "stream",
     "text": [
      "Downloading http://yann.lecun.com/exdb/mnist/train-images-idx3-ubyte.gz to .\\MNIST\\raw\\train-images-idx3-ubyte.gz\n"
     ]
    },
    {
     "name": "stderr",
     "output_type": "stream",
     "text": [
      "100.1%"
     ]
    },
    {
     "name": "stdout",
     "output_type": "stream",
     "text": [
      "Extracting .\\MNIST\\raw\\train-images-idx3-ubyte.gz to .\\MNIST\\raw\n"
     ]
    },
    {
     "name": "stderr",
     "output_type": "stream",
     "text": [
      "113.5%"
     ]
    },
    {
     "name": "stdout",
     "output_type": "stream",
     "text": [
      "Downloading http://yann.lecun.com/exdb/mnist/train-labels-idx1-ubyte.gz to .\\MNIST\\raw\\train-labels-idx1-ubyte.gz\n",
      "Extracting .\\MNIST\\raw\\train-labels-idx1-ubyte.gz to .\\MNIST\\raw\n",
      "Downloading http://yann.lecun.com/exdb/mnist/t10k-images-idx3-ubyte.gz to .\\MNIST\\raw\\t10k-images-idx3-ubyte.gz\n"
     ]
    },
    {
     "name": "stderr",
     "output_type": "stream",
     "text": [
      "180.4%"
     ]
    },
    {
     "name": "stdout",
     "output_type": "stream",
     "text": [
      "Extracting .\\MNIST\\raw\\t10k-images-idx3-ubyte.gz to .\\MNIST\\raw\n",
      "Downloading http://yann.lecun.com/exdb/mnist/t10k-labels-idx1-ubyte.gz to .\\MNIST\\raw\\t10k-labels-idx1-ubyte.gz\n",
      "Extracting .\\MNIST\\raw\\t10k-labels-idx1-ubyte.gz to .\\MNIST\\raw\n",
      "Processing...\n",
      "Done!\n"
     ]
    }
   ],
   "source": [
    "train_set = torchvision.datasets.MNIST(\n",
    "    root=\".\", train=True, download=True, transform=transform\n",
    ")"
   ]
  },
  {
   "cell_type": "code",
   "execution_count": 6,
   "id": "c2d9282c",
   "metadata": {},
   "outputs": [],
   "source": [
    "batch_size = 32\n",
    "train_loader = torch.utils.data.DataLoader(\n",
    "    train_set, batch_size=batch_size, shuffle=True\n",
    ")"
   ]
  },
  {
   "cell_type": "code",
   "execution_count": 7,
   "id": "179a0e6e",
   "metadata": {},
   "outputs": [
    {
     "data": {
      "image/png": "[encoded data removed]",
      "text/plain": [
       "<Figure size 432x288 with 16 Axes>"
      ]
     },
     "metadata": {},
     "output_type": "display_data"
    }
   ],
   "source": [
    "real_samples, mnist_labels = next(iter(train_loader))\n",
    "for i in range(16):\n",
    "    ax = plt.subplot(4, 4, i + 1)\n",
    "    plt.imshow(real_samples[i].reshape(28, 28), cmap=\"gray_r\")\n",
    "    plt.xticks([])\n",
    "    plt.yticks([])"
   ]
  },
  {
   "cell_type": "code",
   "execution_count": 8,
   "id": "a16215eb",
   "metadata": {},
   "outputs": [],
   "source": [
    "class Discriminator(nn.Module):\n",
    "    def __init__(self):\n",
    "        super().__init__()\n",
    "        self.model = nn.Sequential(\n",
    "            nn.Linear(784, 1024),\n",
    "            nn.ReLU(),\n",
    "            nn.Dropout(0.3),\n",
    "            nn.Linear(1024, 512),\n",
    "            nn.ReLU(),\n",
    "            nn.Dropout(0.3),\n",
    "            nn.Linear(512, 256),\n",
    "            nn.ReLU(),\n",
    "            nn.Dropout(0.3),\n",
    "            nn.Linear(256, 1),\n",
    "            nn.Sigmoid(),\n",
    "        )\n",
    "\n",
    "    def forward(self, x):\n",
    "        x = x.view(x.size(0), 784)\n",
    "        output = self.model(x)\n",
    "        return output"
   ]
  },
  {
   "cell_type": "code",
   "execution_count": 9,
   "id": "4623dda2",
   "metadata": {},
   "outputs": [],
   "source": [
    "discriminator = Discriminator().to(device=device)"
   ]
  },
  {
   "cell_type": "code",
   "execution_count": 10,
   "id": "7c707c94",
   "metadata": {},
   "outputs": [],
   "source": [
    "class Generator(nn.Module):\n",
    "    def __init__(self):\n",
    "        super().__init__()\n",
    "        self.model = nn.Sequential(\n",
    "            nn.Linear(100, 256),\n",
    "            nn.ReLU(),\n",
    "            nn.Linear(256, 512),\n",
    "            nn.ReLU(),\n",
    "            nn.Linear(512, 1024),\n",
    "            nn.ReLU(),\n",
    "            nn.Linear(1024, 784),\n",
    "            nn.Tanh(),\n",
    "        )\n",
    "\n",
    "    def forward(self, x):\n",
    "        output = self.model(x)\n",
    "        output = output.view(x.size(0), 1, 28, 28)\n",
    "        return output\n",
    "\n",
    "generator = Generator().to(device=device)"
   ]
  },
  {
   "cell_type": "code",
   "execution_count": 11,
   "id": "27cd6e50",
   "metadata": {},
   "outputs": [],
   "source": [
    "lr = 0.0001\n",
    "num_epochs = 50\n",
    "loss_function = nn.BCELoss()\n",
    "\n",
    "optimizer_discriminator = torch.optim.Adam(discriminator.parameters(), lr=lr)\n",
    "optimizer_generator = torch.optim.Adam(generator.parameters(), lr=lr)"
   ]
  },
  {
   "cell_type": "code",
   "execution_count": 12,
   "id": "4c9308fa",
   "metadata": {},
   "outputs": [
    {
     "name": "stdout",
     "output_type": "stream",
     "text": [
      "Epoch: 0 Loss D.: 0.5006868243217468\n",
      "Epoch: 0 Loss G.: 0.6028866767883301\n",
      "Epoch: 1 Loss D.: 0.0802539810538292\n",
      "Epoch: 1 Loss G.: 10.653480529785156\n",
      "Epoch: 2 Loss D.: 0.007485107518732548\n",
      "Epoch: 2 Loss G.: 6.7299628257751465\n",
      "Epoch: 3 Loss D.: 0.11082236468791962\n",
      "Epoch: 3 Loss G.: 7.604299068450928\n",
      "Epoch: 4 Loss D.: 0.17177005112171173\n",
      "Epoch: 4 Loss G.: 5.297675609588623\n",
      "Epoch: 5 Loss D.: 0.07237005978822708\n",
      "Epoch: 5 Loss G.: 4.874595642089844\n",
      "Epoch: 6 Loss D.: 0.0027235294692218304\n",
      "Epoch: 6 Loss G.: 8.600502014160156\n",
      "Epoch: 7 Loss D.: 0.10247040539979935\n",
      "Epoch: 7 Loss G.: 5.213729381561279\n",
      "Epoch: 8 Loss D.: 0.09985291212797165\n",
      "Epoch: 8 Loss G.: 7.088833808898926\n",
      "Epoch: 9 Loss D.: 0.0806983932852745\n",
      "Epoch: 9 Loss G.: 5.224142074584961\n",
      "Epoch: 10 Loss D.: 0.012265287339687347\n",
      "Epoch: 10 Loss G.: 4.777778625488281\n",
      "Epoch: 11 Loss D.: 0.12660998106002808\n",
      "Epoch: 11 Loss G.: 3.3696722984313965\n",
      "Epoch: 12 Loss D.: 0.0013117730850353837\n",
      "Epoch: 12 Loss G.: 6.9360880851745605\n",
      "Epoch: 13 Loss D.: 0.0009915544651448727\n",
      "Epoch: 13 Loss G.: 6.410285949707031\n",
      "Epoch: 14 Loss D.: 0.003723792266100645\n",
      "Epoch: 14 Loss G.: 6.67289924621582\n",
      "Epoch: 15 Loss D.: 1.862645371275562e-09\n",
      "Epoch: 15 Loss G.: 53.93377685546875\n",
      "Epoch: 16 Loss D.: 0.05829664319753647\n",
      "Epoch: 16 Loss G.: 7.510622978210449\n",
      "Epoch: 17 Loss D.: 0.010222106240689754\n",
      "Epoch: 17 Loss G.: 7.622802734375\n",
      "Epoch: 18 Loss D.: 0.041395366191864014\n",
      "Epoch: 18 Loss G.: 13.10647964477539\n",
      "Epoch: 19 Loss D.: 1.452764990972355e-05\n",
      "Epoch: 19 Loss G.: 11.322093963623047\n",
      "Epoch: 20 Loss D.: 0.0764756053686142\n",
      "Epoch: 20 Loss G.: 5.433162689208984\n",
      "Epoch: 21 Loss D.: 0.001024582190439105\n",
      "Epoch: 21 Loss G.: 10.135834693908691\n",
      "Epoch: 22 Loss D.: 0.00011243144399486482\n",
      "Epoch: 22 Loss G.: 15.645646095275879\n",
      "Epoch: 23 Loss D.: 0.00915771909058094\n",
      "Epoch: 23 Loss G.: 7.0930328369140625\n",
      "Epoch: 24 Loss D.: 0.00044831421109847724\n",
      "Epoch: 24 Loss G.: 12.543279647827148\n",
      "Epoch: 25 Loss D.: 8.22360107122222e-07\n",
      "Epoch: 25 Loss G.: 14.808242797851562\n",
      "Epoch: 26 Loss D.: 0.14543555676937103\n",
      "Epoch: 26 Loss G.: 22.69586753845215\n",
      "Epoch: 27 Loss D.: 5.587936335871291e-09\n",
      "Epoch: 27 Loss G.: 31.751903533935547\n",
      "Epoch: 28 Loss D.: 4.656613761255812e-09\n",
      "Epoch: 28 Loss G.: 26.503570556640625\n",
      "Epoch: 29 Loss D.: 0.0\n",
      "Epoch: 29 Loss G.: 40.24138641357422\n",
      "Epoch: 30 Loss D.: 0.0\n",
      "Epoch: 30 Loss G.: 54.357601165771484\n",
      "Epoch: 31 Loss D.: 0.0\n",
      "Epoch: 31 Loss G.: 52.73870849609375\n",
      "Epoch: 32 Loss D.: 1.5832487321176814e-08\n",
      "Epoch: 32 Loss G.: 26.11172866821289\n",
      "Epoch: 33 Loss D.: 1.6540857359359507e-06\n",
      "Epoch: 33 Loss G.: 18.259063720703125\n",
      "Epoch: 34 Loss D.: 0.0\n",
      "Epoch: 34 Loss G.: 37.94234085083008\n",
      "Epoch: 35 Loss D.: 7.051700322335819e-06\n",
      "Epoch: 35 Loss G.: 28.969112396240234\n",
      "Epoch: 36 Loss D.: 8.605451284893206e-07\n",
      "Epoch: 36 Loss G.: 15.097540855407715\n",
      "Epoch: 37 Loss D.: 6.910524916747818e-07\n",
      "Epoch: 37 Loss G.: 31.459259033203125\n",
      "Epoch: 38 Loss D.: 0.0\n",
      "Epoch: 38 Loss G.: 32.58291244506836\n",
      "Epoch: 39 Loss D.: 5.5502559916931204e-06\n",
      "Epoch: 39 Loss G.: 15.070135116577148\n",
      "Epoch: 40 Loss D.: 1.0430821362206188e-07\n",
      "Epoch: 40 Loss G.: 18.5567569732666\n",
      "Epoch: 41 Loss D.: 1.3969840395589017e-08\n",
      "Epoch: 41 Loss G.: 22.09578514099121\n",
      "Epoch: 42 Loss D.: 3.6752094274561387e-06\n",
      "Epoch: 42 Loss G.: 20.645099639892578\n",
      "Epoch: 43 Loss D.: 7.450581485102248e-09\n",
      "Epoch: 43 Loss G.: 21.651004791259766\n",
      "Epoch: 44 Loss D.: 1.7913074771058746e-05\n",
      "Epoch: 44 Loss G.: 28.378225326538086\n",
      "Epoch: 45 Loss D.: 3.725290742551124e-09\n",
      "Epoch: 45 Loss G.: 35.74336242675781\n",
      "Epoch: 46 Loss D.: 0.0\n",
      "Epoch: 46 Loss G.: 50.96208953857422\n",
      "Epoch: 47 Loss D.: 0.0\n",
      "Epoch: 47 Loss G.: 55.6084098815918\n",
      "Epoch: 48 Loss D.: 0.0\n",
      "Epoch: 48 Loss G.: 63.91252899169922\n",
      "Epoch: 49 Loss D.: 0.0\n",
      "Epoch: 49 Loss G.: 63.45444107055664\n"
     ]
    }
   ],
   "source": [
    "for epoch in range(num_epochs):\n",
    "    for n, (real_samples, mnist_labels) in enumerate(train_loader):\n",
    "        # Data for discriminator\n",
    "        real_samples = real_samples.to(device=device)\n",
    "        real_samples_labels = torch.ones((batch_size, 1)).to(\n",
    "            device=device\n",
    "        )\n",
    "        latent_space_samples = torch.randn((batch_size, 100)).to(\n",
    "            device=device\n",
    "        )\n",
    "        generated_samples = generator(latent_space_samples)\n",
    "        generated_samples_labels = torch.zeros((batch_size, 1)).to(\n",
    "            device=device\n",
    "        )\n",
    "        all_samples = torch.cat((real_samples, generated_samples))\n",
    "        all_samples_labels = torch.cat(\n",
    "            (real_samples_labels, generated_samples_labels)\n",
    "        )\n",
    "\n",
    "        # Training discriminator\n",
    "        discriminator.zero_grad()\n",
    "        output_discriminator = discriminator(all_samples)\n",
    "        loss_discriminator = loss_function(\n",
    "            output_discriminator, all_samples_labels\n",
    "        )\n",
    "        loss_discriminator.backward()\n",
    "        optimizer_discriminator.step()\n",
    "\n",
    "        # Data for generator\n",
    "        latent_space_samples = torch.randn((batch_size, 100)).to(\n",
    "            device=device\n",
    "        )\n",
    "\n",
    "        # Training generator\n",
    "        generator.zero_grad()\n",
    "        generated_samples = generator(latent_space_samples)\n",
    "        output_discriminator_generated = discriminator(generated_samples)\n",
    "        loss_generator = loss_function(\n",
    "            output_discriminator_generated, real_samples_labels\n",
    "        )\n",
    "        loss_generator.backward()\n",
    "        optimizer_generator.step()\n",
    "\n",
    "        # loss\n",
    "        if n == batch_size - 1:\n",
    "            print(f\"Epoch: {epoch} Loss D.: {loss_discriminator}\")\n",
    "            print(f\"Epoch: {epoch} Loss G.: {loss_generator}\")"
   ]
  },
  {
   "cell_type": "code",
   "execution_count": 22,
   "id": "066532b9",
   "metadata": {},
   "outputs": [],
   "source": [
    "latent_space_samples = torch.randn(batch_size, 100).to(device=device)\n",
    "generated_samples = generator(latent_space_samples)"
   ]
  },
  {
   "cell_type": "code",
   "execution_count": 31,
   "id": "bfbbdc67",
   "metadata": {
    "scrolled": true
   },
   "outputs": [
    {
     "data": {
      "image/png": "[encoded data removed]",
      "text/plain": [
       "<Figure size 432x288 with 16 Axes>"
      ]
     },
     "metadata": {},
     "output_type": "display_data"
    }
   ],
   "source": [
    "generated_samples = generated_samples.cpu().detach()\n",
    "for i in range(16):\n",
    "    ax = plt.subplot(4, 4, i + 1)\n",
    "    plt.imshow(generated_samples[i].reshape(28, 28), cmap=\"gray_r\")\n",
    "    plt.xticks([])\n",
    "    plt.yticks([])"
   ]
  },
  {
   "cell_type": "code",
   "execution_count": null,
   "id": "eee713b9",
   "metadata": {},
   "outputs": [],
   "source": []
  }
 ],
 "metadata": {
  "kernelspec": {
   "display_name": "Python 3 (ipykernel)",
   "language": "python",
   "name": "python3"
  },
  "language_info": {
   "codemirror_mode": {
    "name": "ipython",
    "version": 3
   },
   "file_extension": ".py",
   "mimetype": "text/x-python",
   "name": "python",
   "nbconvert_exporter": "python",
   "pygments_lexer": "ipython3",
   "version": "3.8.13"
  }
 },
 "nbformat": 4,
 "nbformat_minor": 5
}
